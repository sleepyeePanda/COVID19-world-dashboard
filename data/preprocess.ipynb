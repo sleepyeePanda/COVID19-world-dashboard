{
 "cells": [
  {
   "cell_type": "code",
   "execution_count": 1,
   "metadata": {},
   "outputs": [],
   "source": [
    "import pandas as pd"
   ]
  },
  {
   "cell_type": "code",
   "execution_count": 2,
   "metadata": {},
   "outputs": [],
   "source": [
    "df = pd.read_csv(\"covid_19_data.csv\")"
   ]
  },
  {
   "cell_type": "code",
   "execution_count": 3,
   "metadata": {},
   "outputs": [],
   "source": [
    "grouped_df = df.groupby([\"ObservationDate\", \"Country/Region\", \"Province/State\"]).count()"
   ]
  },
  {
   "cell_type": "code",
   "execution_count": 4,
   "metadata": {},
   "outputs": [
    {
     "data": {
      "text/html": [
       "<div>\n",
       "<style scoped>\n",
       "    .dataframe tbody tr th:only-of-type {\n",
       "        vertical-align: middle;\n",
       "    }\n",
       "\n",
       "    .dataframe tbody tr th {\n",
       "        vertical-align: top;\n",
       "    }\n",
       "\n",
       "    .dataframe thead th {\n",
       "        text-align: right;\n",
       "    }\n",
       "</style>\n",
       "<table border=\"1\" class=\"dataframe\">\n",
       "  <thead>\n",
       "    <tr style=\"text-align: right;\">\n",
       "      <th></th>\n",
       "      <th></th>\n",
       "      <th></th>\n",
       "      <th>SNo</th>\n",
       "      <th>Last Update</th>\n",
       "      <th>Confirmed</th>\n",
       "      <th>Deaths</th>\n",
       "      <th>Recovered</th>\n",
       "    </tr>\n",
       "    <tr>\n",
       "      <th>ObservationDate</th>\n",
       "      <th>Country/Region</th>\n",
       "      <th>Province/State</th>\n",
       "      <th></th>\n",
       "      <th></th>\n",
       "      <th></th>\n",
       "      <th></th>\n",
       "      <th></th>\n",
       "    </tr>\n",
       "  </thead>\n",
       "  <tbody>\n",
       "  </tbody>\n",
       "</table>\n",
       "</div>"
      ],
      "text/plain": [
       "Empty DataFrame\n",
       "Columns: [SNo, Last Update, Confirmed, Deaths, Recovered]\n",
       "Index: []"
      ]
     },
     "execution_count": 4,
     "metadata": {},
     "output_type": "execute_result"
    }
   ],
   "source": [
    "grouped_df[grouped_df['Last Update'] > 1].sort_values(by=['Last Update'], ascending=False)"
   ]
  },
  {
   "cell_type": "markdown",
   "metadata": {},
   "source": [
    "같은 날짜에 같은 지역의 확진자 수가 2번 이상 측정된 곳은 마지막 업데이트 시간을 기준으로 하나의 데이터로 통합하였다."
   ]
  },
  {
   "cell_type": "code",
   "execution_count": 5,
   "metadata": {},
   "outputs": [],
   "source": [
    "accumulated_df = df.groupby([\"ObservationDate\", \"Country/Region\"]).sum()"
   ]
  },
  {
   "cell_type": "code",
   "execution_count": 6,
   "metadata": {},
   "outputs": [],
   "source": [
    "accumulated_df.drop([\"SNo\"], axis=1, inplace=True)\n",
    "accumulated_df.to_csv(\"accumulated_covid_19_data.csv\", mode='w')"
   ]
  },
  {
   "cell_type": "code",
   "execution_count": 7,
   "metadata": {
    "scrolled": true
   },
   "outputs": [
    {
     "data": {
      "text/html": [
       "<div>\n",
       "<style scoped>\n",
       "    .dataframe tbody tr th:only-of-type {\n",
       "        vertical-align: middle;\n",
       "    }\n",
       "\n",
       "    .dataframe tbody tr th {\n",
       "        vertical-align: top;\n",
       "    }\n",
       "\n",
       "    .dataframe thead th {\n",
       "        text-align: right;\n",
       "    }\n",
       "</style>\n",
       "<table border=\"1\" class=\"dataframe\">\n",
       "  <thead>\n",
       "    <tr style=\"text-align: right;\">\n",
       "      <th></th>\n",
       "      <th></th>\n",
       "      <th>Confirmed</th>\n",
       "      <th>Deaths</th>\n",
       "      <th>Recovered</th>\n",
       "    </tr>\n",
       "    <tr>\n",
       "      <th>ObservationDate</th>\n",
       "      <th>Country/Region</th>\n",
       "      <th></th>\n",
       "      <th></th>\n",
       "      <th></th>\n",
       "    </tr>\n",
       "  </thead>\n",
       "  <tbody>\n",
       "    <tr>\n",
       "      <th rowspan=\"5\" valign=\"top\">01/22/2020</th>\n",
       "      <th>Hong Kong</th>\n",
       "      <td>0.0</td>\n",
       "      <td>0.0</td>\n",
       "      <td>0.0</td>\n",
       "    </tr>\n",
       "    <tr>\n",
       "      <th>Japan</th>\n",
       "      <td>2.0</td>\n",
       "      <td>0.0</td>\n",
       "      <td>0.0</td>\n",
       "    </tr>\n",
       "    <tr>\n",
       "      <th>Macau</th>\n",
       "      <td>1.0</td>\n",
       "      <td>0.0</td>\n",
       "      <td>0.0</td>\n",
       "    </tr>\n",
       "    <tr>\n",
       "      <th>Mainland China</th>\n",
       "      <td>547.0</td>\n",
       "      <td>17.0</td>\n",
       "      <td>28.0</td>\n",
       "    </tr>\n",
       "    <tr>\n",
       "      <th>South Korea</th>\n",
       "      <td>1.0</td>\n",
       "      <td>0.0</td>\n",
       "      <td>0.0</td>\n",
       "    </tr>\n",
       "    <tr>\n",
       "      <th>...</th>\n",
       "      <th>...</th>\n",
       "      <td>...</td>\n",
       "      <td>...</td>\n",
       "      <td>...</td>\n",
       "    </tr>\n",
       "    <tr>\n",
       "      <th rowspan=\"5\" valign=\"top\">05/14/2020</th>\n",
       "      <th>West Bank and Gaza</th>\n",
       "      <td>375.0</td>\n",
       "      <td>2.0</td>\n",
       "      <td>310.0</td>\n",
       "    </tr>\n",
       "    <tr>\n",
       "      <th>Western Sahara</th>\n",
       "      <td>6.0</td>\n",
       "      <td>0.0</td>\n",
       "      <td>6.0</td>\n",
       "    </tr>\n",
       "    <tr>\n",
       "      <th>Yemen</th>\n",
       "      <td>85.0</td>\n",
       "      <td>12.0</td>\n",
       "      <td>1.0</td>\n",
       "    </tr>\n",
       "    <tr>\n",
       "      <th>Zambia</th>\n",
       "      <td>654.0</td>\n",
       "      <td>7.0</td>\n",
       "      <td>124.0</td>\n",
       "    </tr>\n",
       "    <tr>\n",
       "      <th>Zimbabwe</th>\n",
       "      <td>37.0</td>\n",
       "      <td>4.0</td>\n",
       "      <td>13.0</td>\n",
       "    </tr>\n",
       "  </tbody>\n",
       "</table>\n",
       "<p>13750 rows × 3 columns</p>\n",
       "</div>"
      ],
      "text/plain": [
       "                                    Confirmed  Deaths  Recovered\n",
       "ObservationDate Country/Region                                  \n",
       "01/22/2020      Hong Kong                 0.0     0.0        0.0\n",
       "                Japan                     2.0     0.0        0.0\n",
       "                Macau                     1.0     0.0        0.0\n",
       "                Mainland China          547.0    17.0       28.0\n",
       "                South Korea               1.0     0.0        0.0\n",
       "...                                       ...     ...        ...\n",
       "05/14/2020      West Bank and Gaza      375.0     2.0      310.0\n",
       "                Western Sahara            6.0     0.0        6.0\n",
       "                Yemen                    85.0    12.0        1.0\n",
       "                Zambia                  654.0     7.0      124.0\n",
       "                Zimbabwe                 37.0     4.0       13.0\n",
       "\n",
       "[13750 rows x 3 columns]"
      ]
     },
     "execution_count": 7,
     "metadata": {},
     "output_type": "execute_result"
    }
   ],
   "source": [
    "accumulated_df"
   ]
  },
  {
   "cell_type": "markdown",
   "metadata": {},
   "source": []
  },
  {
   "cell_type": "code",
   "execution_count": 8,
   "metadata": {},
   "outputs": [],
   "source": [
    "import pandas as pd\n",
    "world_id_name = pd.read_csv('world_country_id.csv')\n",
    "world_region = pd.read_csv('accumulated_covid_19_data.csv')"
   ]
  },
  {
   "cell_type": "code",
   "execution_count": 9,
   "metadata": {},
   "outputs": [],
   "source": [
    "regions = world_region['Country/Region'].unique()"
   ]
  },
  {
   "cell_type": "code",
   "execution_count": 10,
   "metadata": {},
   "outputs": [],
   "source": [
    "countrys = world_id_name['name'].unique()"
   ]
  },
  {
   "cell_type": "code",
   "execution_count": 11,
   "metadata": {
    "scrolled": true
   },
   "outputs": [
    {
     "name": "stdout",
     "output_type": "stream",
     "text": [
      "{'Tokelau', 'St. Martin', 'Tuvalu', 'Swaziland', 'Gaza Strip', 'Nauru', 'Unspecified', 'Palau', 'World', 'Cocos (Keeling) Islands', 'Fm Zanz-Pemb', 'New Caledonia', 'West Bank and Gaza', 'Jhonston Island', 'Bermuda', 'Free Zones', 'Fm Vietnam Rp', 'Saint Helena', 'Northern Mariana Islands', 'Montenegro', 'Slovakia', 'Saint Barthelemy', 'Special Categories', 'Vanuatu', 'SIKKIM', 'Solomon Islands', 'Bahamas, The', 'Laos', 'Guernsey', 'Montserrat', 'Ryukyu Is', 'Falkland Island', 'Sarawak', 'Kiribati', 'North Macedonia', 'Cook Islands', 'Svalbard and Jan Mayen Is', 'Belgium-Luxembourg', 'Others', \"('St. Martin',)\", 'Marshall Islands', 'Vatican City', 'Jersey', 'Gambia, The', 'German Democratic Republic', 'Republic of the Congo', 'occupied Palestinian territory', 'Serbia', 'Fm Vietnam Dr', 'Burma', 'Timor-Leste', 'Palestine', 'Sabah', 'Netherlands Antilles', 'Virgin Islands (U.S.)', 'Samoa', 'MS Zaandam', 'Turks and Caicos Isl.', 'Lao PDR', 'Fm Tanganyik', 'Kyrgyz Republic', 'Midway Islands', 'Fm Panama Cz', 'Pacific Islands', 'American Samoa', 'Pitcairn', 'Curacao', 'Saint Pierre and Miquelon', 'Fm Rhod Nyas', 'South Sudan', 'Myanmar', 'Us Msc.Pac.I', 'Czechoslovakia', 'Eswatini', 'North Korea', 'Mayotte', 'Wallis and Futura Isl.', 'British Virgin Islands', 'British Indian Ocean Ter.', 'Cabo Verde', 'Syrian Arab Republic', 'Diamond Princess', 'Micronesia, Fed. Sts.', 'Kyrgyzstan', 'Saint Kitts-Nevis-Anguilla-Aru', 'Anguila', 'The Bahamas', 'Yugoslavia', 'Soviet Union', 'Fr. So. Ant. Tr', 'Christmas Island', 'Neutral Zone', 'Kosovo', \"Cote d'Ivoire\", 'Yugoslavia, FR (Serbia/Montene', 'The Gambia', 'European Union', 'Syria', 'Slovak Republic', 'Br. Antr. Terr', 'Ivory Coast', 'French Polynesia', 'Norfolk Island', 'Niue', 'Wake Island', 'Republic of Ireland', 'Channel Islands', 'Macedonia, FYR', 'Pen Malaysia', 'Turkmenistan', 'Tonga'}\n"
     ]
    }
   ],
   "source": [
    "print((set(regions) | set(countrys)) - (set(regions) & set(countrys)))"
   ]
  },
  {
   "cell_type": "code",
   "execution_count": 12,
   "metadata": {
    "scrolled": true
   },
   "outputs": [
    {
     "data": {
      "text/plain": [
       "{\"('St. Martin',)\",\n",
       " 'Bahamas, The',\n",
       " 'Burma',\n",
       " 'Cabo Verde',\n",
       " 'Channel Islands',\n",
       " 'Curacao',\n",
       " 'Diamond Princess',\n",
       " 'Eswatini',\n",
       " 'Gambia, The',\n",
       " 'Guernsey',\n",
       " 'Ivory Coast',\n",
       " 'Jersey',\n",
       " 'Kosovo',\n",
       " 'Kyrgyzstan',\n",
       " 'Laos',\n",
       " 'MS Zaandam',\n",
       " 'Mayotte',\n",
       " 'Montenegro',\n",
       " 'North Macedonia',\n",
       " 'Others',\n",
       " 'Palestine',\n",
       " 'Republic of Ireland',\n",
       " 'Republic of the Congo',\n",
       " 'Saint Barthelemy',\n",
       " 'Serbia',\n",
       " 'Slovakia',\n",
       " 'South Sudan',\n",
       " 'St. Martin',\n",
       " 'Syria',\n",
       " 'The Bahamas',\n",
       " 'The Gambia',\n",
       " 'Timor-Leste',\n",
       " 'Vatican City',\n",
       " 'West Bank and Gaza',\n",
       " 'occupied Palestinian territory'}"
      ]
     },
     "execution_count": 12,
     "metadata": {},
     "output_type": "execute_result"
    }
   ],
   "source": [
    "set(regions) - (set(regions) & set(countrys)) "
   ]
  },
  {
   "cell_type": "markdown",
   "metadata": {},
   "source": [
    "나라 이름이 정확하게 일치하지 않는 경우를 확인하여 수정해주었다."
   ]
  }
 ],
 "metadata": {
  "kernelspec": {
   "display_name": "Python 3",
   "language": "python",
   "name": "python3"
  },
  "language_info": {
   "codemirror_mode": {
    "name": "ipython",
    "version": 3
   },
   "file_extension": ".py",
   "mimetype": "text/x-python",
   "name": "python",
   "nbconvert_exporter": "python",
   "pygments_lexer": "ipython3",
   "version": "3.7.6"
  }
 },
 "nbformat": 4,
 "nbformat_minor": 4
}
